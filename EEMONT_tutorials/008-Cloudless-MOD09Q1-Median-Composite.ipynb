{
  "cells": [
    {
      "cell_type": "markdown",
      "metadata": {
        "id": "z97vEGCOYUZO"
      },
      "source": [
        "[![colab](https://colab.research.google.com/assets/colab-badge.svg)](https://colab.research.google.com/github/davemlz/eemont/blob/master/docs/tutorials/008-Cloudless-MOD09Q1-Median-Composite.ipynb)"
      ]
    },
    {
      "cell_type": "markdown",
      "metadata": {
        "id": "jZEthLln92Ep"
      },
      "source": [
        "# Cloudless MOD09Q1 Median Composite"
      ]
    },
    {
      "cell_type": "markdown",
      "metadata": {
        "id": "dNa470OZ8Oec"
      },
      "source": [
        "_Tutorial created by **David Montero Loaiza**_: [GitHub](https://github.com/davemlz) | [Twitter](https://twitter.com/dmlmont)\n",
        "\n",
        "- GitHub Repo: [https://github.com/davemlz/eemont](https://github.com/davemlz/eemont)\n",
        "- PyPI link: [https://pypi.org/project/eemont/](https://pypi.org/project/eemont/)\n",
        "- Conda-forge: [https://anaconda.org/conda-forge/eemont](https://anaconda.org/conda-forge/eemont)\n",
        "- Documentation: [https://eemont.readthedocs.io/](https://eemont.readthedocs.io/)\n",
        "- More tutorials: [https://github.com/davemlz/eemont/tree/master/docs/tutorials](https://github.com/davemlz/eemont/tree/master/docs/tutorials)"
      ]
    },
    {
      "cell_type": "markdown",
      "metadata": {
        "id": "CD7h0hbi92Er"
      },
      "source": [
        "## Let's start!"
      ]
    },
    {
      "cell_type": "markdown",
      "metadata": {
        "id": "E0rc6Cya92Es"
      },
      "source": [
        "If required, please uncomment:"
      ]
    },
    {
      "cell_type": "code",
      "execution_count": null,
      "metadata": {
        "id": "NYzyvKtk92Es"
      },
      "outputs": [],
      "source": [
        "#!pip install eemont\n",
        "#!pip install geemap"
      ]
    },
    {
      "cell_type": "markdown",
      "metadata": {
        "id": "x3Rm3qt_92Et"
      },
      "source": [
        "Import the required packges."
      ]
    },
    {
      "cell_type": "code",
      "execution_count": null,
      "metadata": {
        "id": "H0C9S_Hh92Et"
      },
      "outputs": [],
      "source": [
        "import ee, eemont, geemap"
      ]
    },
    {
      "cell_type": "markdown",
      "metadata": {
        "id": "k1sdX2p592Eu"
      },
      "source": [
        "Authenticate and Initialize Earth Engine and geemap."
      ]
    },
    {
      "cell_type": "code",
      "execution_count": null,
      "metadata": {
        "id": "7QDXqVwy8Oef"
      },
      "outputs": [],
      "source": [
        "Map = geemap.Map()"
      ]
    },
    {
      "cell_type": "markdown",
      "metadata": {
        "id": "FYguKZh892Ey"
      },
      "source": [
        "Get, filter and mask clouds and shadows in the MOD09Q1 MODIS Product. Also, compute the median composite."
      ]
    },
    {
      "cell_type": "code",
      "execution_count": null,
      "metadata": {
        "id": "sBmM9kZn92Ez"
      },
      "outputs": [],
      "source": [
        "MOD09Q1 = (ee.ImageCollection('MODIS/006/MOD09Q1')      \n",
        "          .filterDate('2020-01-01','2021-01-01')\n",
        "          .maskClouds()\n",
        "          .scaleAndOffset()\n",
        "          .median())"
      ]
    },
    {
      "cell_type": "markdown",
      "metadata": {
        "id": "AVKJYR8h92Ez"
      },
      "source": [
        "## Visualization\n",
        "\n",
        "Let's define the visualization."
      ]
    },
    {
      "cell_type": "code",
      "execution_count": null,
      "metadata": {
        "id": "d4aNNSuq92E0"
      },
      "outputs": [],
      "source": [
        "visParams = {\n",
        "    'min':0,\n",
        "    'max':1,\n",
        "    'bands':['sur_refl_b02', 'sur_refl_b02', 'sur_refl_b01']\n",
        "}"
      ]
    },
    {
      "cell_type": "markdown",
      "metadata": {
        "id": "maZtNVfwYUZU"
      },
      "source": [
        "Use `geemap` to display results:"
      ]
    },
    {
      "cell_type": "code",
      "execution_count": null,
      "metadata": {
        "id": "dtagkBIAYUZU",
        "outputId": "eea33644-8ea2-4ac7-cd2b-5311b4e07b84",
        "colab": {
          "referenced_widgets": [
            "8b2e8326e8fe41e6b09a3bd0aa0f82c5"
          ]
        }
      },
      "outputs": [
        {
          "data": {
            "application/vnd.jupyter.widget-view+json": {
              "model_id": "8b2e8326e8fe41e6b09a3bd0aa0f82c5",
              "version_major": 2,
              "version_minor": 0
            },
            "text/plain": [
              "Map(center=[40, -100], controls=(WidgetControl(options=['position', 'transparent_bg'], widget=HBox(children=(T…"
            ]
          },
          "metadata": {},
          "output_type": "display_data"
        }
      ],
      "source": [
        "Map.addLayer(MOD09Q1,visParams,'MOD09Q1 Cloudless Median Composite')\n",
        "Map"
      ]
    }
  ],
  "metadata": {
    "kernelspec": {
      "display_name": "Python 3",
      "language": "python",
      "name": "python3"
    },
    "language_info": {
      "codemirror_mode": {
        "name": "ipython",
        "version": 3
      },
      "file_extension": ".py",
      "mimetype": "text/x-python",
      "name": "python",
      "nbconvert_exporter": "python",
      "pygments_lexer": "ipython3",
      "version": "3.9.4"
    },
    "colab": {
      "name": "008-Cloudless-MOD09Q1-Median-Composite.ipynb",
      "provenance": []
    }
  },
  "nbformat": 4,
  "nbformat_minor": 0
}